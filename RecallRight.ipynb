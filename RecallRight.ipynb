{
 "cells": [
  {
   "cell_type": "code",
   "execution_count": 1,
   "id": "06ad0083",
   "metadata": {},
   "outputs": [],
   "source": [
    "from langchain_chroma import Chroma\n",
    "from langchain_huggingface import HuggingFaceEmbeddings\n",
    "from langchain_community.document_loaders import TextLoader\n",
    "from langchain_text_splitters import CharacterTextSplitter\n",
    "from uuid import uuid4\n",
    "from langchain_core.documents import Document\n",
    "import os\n",
    "from groq import Groq\n",
    "import pandas as pd"
   ]
  },
  {
   "cell_type": "markdown",
   "id": "ae210b3b",
   "metadata": {},
   "source": [
    "## 1 - Write a function that gets content, chunk size and returns a list of chunks"
   ]
  },
  {
   "cell_type": "code",
   "execution_count": 2,
   "id": "2a49b563",
   "metadata": {},
   "outputs": [],
   "source": [
    "def chunk_data(content,chunk_size):\n",
    "    text_splitter = CharacterTextSplitter(chunk_size=chunk_size, chunk_overlap=200)\n",
    "    documents = text_splitter.create_documents(texts = [content])\n",
    "    return documents\n",
    "        "
   ]
  },
  {
   "cell_type": "markdown",
   "id": "632d1ef3",
   "metadata": {},
   "source": [
    "## 2 - Take an individual chunk and return embedding for it"
   ]
  },
  {
   "cell_type": "code",
   "execution_count": 3,
   "id": "d7008471",
   "metadata": {},
   "outputs": [],
   "source": [
    "def embed_and_store(chunk,db,uuid=None):\n",
    "    if uuid==None:\n",
    "        uuid = str(uuid4())\n",
    "    embeddings = HuggingFaceEmbeddings()\n",
    "    chunk.metadata['id'] = uuid\n",
    "    db.add_documents(documents = [chunk],ids=[uuid],)\n",
    "    return uuid"
   ]
  },
  {
   "cell_type": "code",
   "execution_count": 4,
   "id": "959eda2f",
   "metadata": {},
   "outputs": [],
   "source": [
    "def create_document_from_string(content):\n",
    "    return Document(\n",
    "        page_content=content,\n",
    "    )"
   ]
  },
  {
   "cell_type": "markdown",
   "id": "030706d4",
   "metadata": {},
   "source": [
    "## 3 - Functions take chunk and returns tags"
   ]
  },
  {
   "cell_type": "code",
   "execution_count": 5,
   "id": "fbb26dd1",
   "metadata": {},
   "outputs": [],
   "source": [
    "client = Groq(\n",
    "    api_key=\"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\",\n",
    ")\n",
    "\n",
    "def create_tags(doc):\n",
    "    question = \"\"\"Based on the given content generate 10 or less tags in the form of list seperated by comma.\n",
    "    Don't return redundant or uneccessary tags, just return the tags and nothing else,\n",
    "    Your output should look like <tag1>,<tag2>,<tag3>,\"\"\"\n",
    "    content = doc.page_content\n",
    "    chat_completion = client.chat.completions.create(\n",
    "        messages=[\n",
    "            {\n",
    "                \"role\": \"user\",\n",
    "                \"content\": f\"\"\"{question}\\n\\n {content} \"\"\",\n",
    "            }\n",
    "        ],\n",
    "        model=\"llama3-8b-8192\",\n",
    "    )\n",
    "    return chat_completion.choices[0].message.content\n"
   ]
  },
  {
   "cell_type": "markdown",
   "id": "96373bd4",
   "metadata": {},
   "source": [
    "## 4 - Driver code (also stores tags against chunks to a dataframe)"
   ]
  },
  {
   "cell_type": "code",
   "execution_count": 6,
   "id": "66bf13ed",
   "metadata": {},
   "outputs": [],
   "source": [
    "class PersistData:\n",
    "    _instance = None\n",
    "\n",
    "    def __new__(cls, *args, **kwargs):\n",
    "        if not cls._instance:\n",
    "            cls._instance = super().__new__(cls, *args, **kwargs)\n",
    "        return cls._instance\n",
    "    \n",
    "    def __init__(self) -> None:\n",
    "        columns = ['uuid', 'content','tags']\n",
    "        self.content_df = pd.DataFrame(columns=columns)\n",
    "        \n",
    "        self.tag_db = Chroma(\n",
    "            collection_name=\"tag_collection\",\n",
    "            embedding_function=HuggingFaceEmbeddings(),\n",
    "            persist_directory=\"./our_db\",  # Where to save data locally, remove if not neccesary\n",
    "        )\n",
    "        \n",
    "        self.content_db = Chroma(\n",
    "            collection_name=\"content_collection\",\n",
    "            embedding_function=HuggingFaceEmbeddings(),\n",
    "            persist_directory=\"./our_db\",  # Where to save data locally, remove if not neccesary\n",
    "        )\n",
    "    \n",
    "    @staticmethod\n",
    "    def create(self):\n",
    "        if self.obj ==None:\n",
    "            self.obj = PersistData()\n",
    "        return self.obj\n",
    "    \n",
    "    def store_data(self, content):\n",
    "        chunks = chunk_data(content,chunk_size = 1500)\n",
    "        uuid_list = []\n",
    "        for chunk in chunks:\n",
    "            tags = create_tags(chunk) # a string generated here, we need to split them into words\n",
    "            uuid = embed_and_store(create_document_from_string(tags),self.tag_db)\n",
    "            uuid = embed_and_store(chunk,self.content_db,uuid)\n",
    "            self.content_df = self.content_df.append({'uuid': uuid,\n",
    "                                  'content':chunk.page_content,\n",
    "                                  'tags':tags},\n",
    "                                 ignore_index=True)\n",
    "        uuid_list.append(uuid)\n",
    "        return uuid_list\n",
    "\n",
    "    def search_tags(self, query):\n",
    "        docs = self.tag_db.similarity_search_with_score(query, k=4)\n",
    "        nearest_embeddings = [(doc[0].metadata['id'],doc[1]) for doc in docs if 'id' in doc[0].metadata]\n",
    "        score_df = pd.DataFrame(nearest_embeddings, columns=['uuid', 'score'])\n",
    "        filtered_df = self.content_df[self.content_df['uuid'].isin([doc[0] for doc in nearest_embeddings])]\n",
    "        result = pd.merge(filtered_df, score_df, on='uuid', how='inner')\n",
    "        return result.sort_values(by='score')\n",
    "    \n",
    "    def search_content(self,query):\n",
    "        docs = self.content_db.similarity_search_with_score(query, k=4)\n",
    "        nearest_embeddings = [(doc[0].metadata['id'],doc[1]) for doc in docs if 'id' in doc[0].metadata]\n",
    "        score_df = pd.DataFrame(nearest_embeddings, columns=['uuid', 'score'])\n",
    "        filtered_df = self.content_df[self.content_df['uuid'].isin([doc[0] for doc in nearest_embeddings])]\n",
    "        result = pd.merge(filtered_df, score_df, on='uuid', how='inner')\n",
    "        return result.sort_values(by='score')\n",
    "    \n"
   ]
  },
  {
   "cell_type": "code",
   "execution_count": 7,
   "id": "93157522",
   "metadata": {},
   "outputs": [
    {
     "name": "stderr",
     "output_type": "stream",
     "text": [
      "/Library/Frameworks/Python.framework/Versions/3.10/lib/python3.10/site-packages/sentence_transformers/cross_encoder/CrossEncoder.py:11: TqdmExperimentalWarning: Using `tqdm.autonotebook.tqdm` in notebook mode. Use `tqdm.tqdm` instead to force console mode (e.g. in jupyter console)\n",
      "  from tqdm.autonotebook import tqdm, trange\n",
      "/Library/Frameworks/Python.framework/Versions/3.10/lib/python3.10/site-packages/transformers/tokenization_utils_base.py:1601: FutureWarning: `clean_up_tokenization_spaces` was not set. It will be set to `True` by default. This behavior will be depracted in transformers v4.45, and will be then set to `False` by default. For more details check this issue: https://github.com/huggingface/transformers/issues/31884\n",
      "  warnings.warn(\n"
     ]
    }
   ],
   "source": [
    "obj = PersistData()"
   ]
  },
  {
   "cell_type": "code",
   "execution_count": 8,
   "id": "97888e00",
   "metadata": {
    "collapsed": true
   },
   "outputs": [
    {
     "name": "stderr",
     "output_type": "stream",
     "text": [
      "/Library/Frameworks/Python.framework/Versions/3.10/lib/python3.10/site-packages/transformers/tokenization_utils_base.py:1601: FutureWarning: `clean_up_tokenization_spaces` was not set. It will be set to `True` by default. This behavior will be depracted in transformers v4.45, and will be then set to `False` by default. For more details check this issue: https://github.com/huggingface/transformers/issues/31884\n",
      "  warnings.warn(\n",
      "/var/folders/j5/nqzgw0y57tl34s5php7yb9840000gn/T/ipykernel_20731/2994901544.py:38: FutureWarning: The frame.append method is deprecated and will be removed from pandas in a future version. Use pandas.concat instead.\n",
      "  self.content_df = self.content_df.append({'uuid': uuid,\n",
      "/Library/Frameworks/Python.framework/Versions/3.10/lib/python3.10/site-packages/transformers/tokenization_utils_base.py:1601: FutureWarning: `clean_up_tokenization_spaces` was not set. It will be set to `True` by default. This behavior will be depracted in transformers v4.45, and will be then set to `False` by default. For more details check this issue: https://github.com/huggingface/transformers/issues/31884\n",
      "  warnings.warn(\n",
      "/var/folders/j5/nqzgw0y57tl34s5php7yb9840000gn/T/ipykernel_20731/2994901544.py:38: FutureWarning: The frame.append method is deprecated and will be removed from pandas in a future version. Use pandas.concat instead.\n",
      "  self.content_df = self.content_df.append({'uuid': uuid,\n",
      "/Library/Frameworks/Python.framework/Versions/3.10/lib/python3.10/site-packages/transformers/tokenization_utils_base.py:1601: FutureWarning: `clean_up_tokenization_spaces` was not set. It will be set to `True` by default. This behavior will be depracted in transformers v4.45, and will be then set to `False` by default. For more details check this issue: https://github.com/huggingface/transformers/issues/31884\n",
      "  warnings.warn(\n",
      "/var/folders/j5/nqzgw0y57tl34s5php7yb9840000gn/T/ipykernel_20731/2994901544.py:38: FutureWarning: The frame.append method is deprecated and will be removed from pandas in a future version. Use pandas.concat instead.\n",
      "  self.content_df = self.content_df.append({'uuid': uuid,\n",
      "/Library/Frameworks/Python.framework/Versions/3.10/lib/python3.10/site-packages/transformers/tokenization_utils_base.py:1601: FutureWarning: `clean_up_tokenization_spaces` was not set. It will be set to `True` by default. This behavior will be depracted in transformers v4.45, and will be then set to `False` by default. For more details check this issue: https://github.com/huggingface/transformers/issues/31884\n",
      "  warnings.warn(\n",
      "/var/folders/j5/nqzgw0y57tl34s5php7yb9840000gn/T/ipykernel_20731/2994901544.py:38: FutureWarning: The frame.append method is deprecated and will be removed from pandas in a future version. Use pandas.concat instead.\n",
      "  self.content_df = self.content_df.append({'uuid': uuid,\n",
      "/Library/Frameworks/Python.framework/Versions/3.10/lib/python3.10/site-packages/transformers/tokenization_utils_base.py:1601: FutureWarning: `clean_up_tokenization_spaces` was not set. It will be set to `True` by default. This behavior will be depracted in transformers v4.45, and will be then set to `False` by default. For more details check this issue: https://github.com/huggingface/transformers/issues/31884\n",
      "  warnings.warn(\n",
      "/var/folders/j5/nqzgw0y57tl34s5php7yb9840000gn/T/ipykernel_20731/2994901544.py:38: FutureWarning: The frame.append method is deprecated and will be removed from pandas in a future version. Use pandas.concat instead.\n",
      "  self.content_df = self.content_df.append({'uuid': uuid,\n",
      "/Library/Frameworks/Python.framework/Versions/3.10/lib/python3.10/site-packages/transformers/tokenization_utils_base.py:1601: FutureWarning: `clean_up_tokenization_spaces` was not set. It will be set to `True` by default. This behavior will be depracted in transformers v4.45, and will be then set to `False` by default. For more details check this issue: https://github.com/huggingface/transformers/issues/31884\n",
      "  warnings.warn(\n",
      "/var/folders/j5/nqzgw0y57tl34s5php7yb9840000gn/T/ipykernel_20731/2994901544.py:38: FutureWarning: The frame.append method is deprecated and will be removed from pandas in a future version. Use pandas.concat instead.\n",
      "  self.content_df = self.content_df.append({'uuid': uuid,\n",
      "/Library/Frameworks/Python.framework/Versions/3.10/lib/python3.10/site-packages/transformers/tokenization_utils_base.py:1601: FutureWarning: `clean_up_tokenization_spaces` was not set. It will be set to `True` by default. This behavior will be depracted in transformers v4.45, and will be then set to `False` by default. For more details check this issue: https://github.com/huggingface/transformers/issues/31884\n",
      "  warnings.warn(\n",
      "/var/folders/j5/nqzgw0y57tl34s5php7yb9840000gn/T/ipykernel_20731/2994901544.py:38: FutureWarning: The frame.append method is deprecated and will be removed from pandas in a future version. Use pandas.concat instead.\n",
      "  self.content_df = self.content_df.append({'uuid': uuid,\n",
      "/Library/Frameworks/Python.framework/Versions/3.10/lib/python3.10/site-packages/transformers/tokenization_utils_base.py:1601: FutureWarning: `clean_up_tokenization_spaces` was not set. It will be set to `True` by default. This behavior will be depracted in transformers v4.45, and will be then set to `False` by default. For more details check this issue: https://github.com/huggingface/transformers/issues/31884\n",
      "  warnings.warn(\n",
      "/var/folders/j5/nqzgw0y57tl34s5php7yb9840000gn/T/ipykernel_20731/2994901544.py:38: FutureWarning: The frame.append method is deprecated and will be removed from pandas in a future version. Use pandas.concat instead.\n",
      "  self.content_df = self.content_df.append({'uuid': uuid,\n",
      "/Library/Frameworks/Python.framework/Versions/3.10/lib/python3.10/site-packages/transformers/tokenization_utils_base.py:1601: FutureWarning: `clean_up_tokenization_spaces` was not set. It will be set to `True` by default. This behavior will be depracted in transformers v4.45, and will be then set to `False` by default. For more details check this issue: https://github.com/huggingface/transformers/issues/31884\n",
      "  warnings.warn(\n",
      "/var/folders/j5/nqzgw0y57tl34s5php7yb9840000gn/T/ipykernel_20731/2994901544.py:38: FutureWarning: The frame.append method is deprecated and will be removed from pandas in a future version. Use pandas.concat instead.\n",
      "  self.content_df = self.content_df.append({'uuid': uuid,\n",
      "/Library/Frameworks/Python.framework/Versions/3.10/lib/python3.10/site-packages/transformers/tokenization_utils_base.py:1601: FutureWarning: `clean_up_tokenization_spaces` was not set. It will be set to `True` by default. This behavior will be depracted in transformers v4.45, and will be then set to `False` by default. For more details check this issue: https://github.com/huggingface/transformers/issues/31884\n",
      "  warnings.warn(\n",
      "/var/folders/j5/nqzgw0y57tl34s5php7yb9840000gn/T/ipykernel_20731/2994901544.py:38: FutureWarning: The frame.append method is deprecated and will be removed from pandas in a future version. Use pandas.concat instead.\n",
      "  self.content_df = self.content_df.append({'uuid': uuid,\n",
      "/Library/Frameworks/Python.framework/Versions/3.10/lib/python3.10/site-packages/transformers/tokenization_utils_base.py:1601: FutureWarning: `clean_up_tokenization_spaces` was not set. It will be set to `True` by default. This behavior will be depracted in transformers v4.45, and will be then set to `False` by default. For more details check this issue: https://github.com/huggingface/transformers/issues/31884\n",
      "  warnings.warn(\n",
      "/var/folders/j5/nqzgw0y57tl34s5php7yb9840000gn/T/ipykernel_20731/2994901544.py:38: FutureWarning: The frame.append method is deprecated and will be removed from pandas in a future version. Use pandas.concat instead.\n",
      "  self.content_df = self.content_df.append({'uuid': uuid,\n",
      "/Library/Frameworks/Python.framework/Versions/3.10/lib/python3.10/site-packages/transformers/tokenization_utils_base.py:1601: FutureWarning: `clean_up_tokenization_spaces` was not set. It will be set to `True` by default. This behavior will be depracted in transformers v4.45, and will be then set to `False` by default. For more details check this issue: https://github.com/huggingface/transformers/issues/31884\n",
      "  warnings.warn(\n",
      "/var/folders/j5/nqzgw0y57tl34s5php7yb9840000gn/T/ipykernel_20731/2994901544.py:38: FutureWarning: The frame.append method is deprecated and will be removed from pandas in a future version. Use pandas.concat instead.\n",
      "  self.content_df = self.content_df.append({'uuid': uuid,\n"
     ]
    },
    {
     "name": "stderr",
     "output_type": "stream",
     "text": [
      "/Library/Frameworks/Python.framework/Versions/3.10/lib/python3.10/site-packages/transformers/tokenization_utils_base.py:1601: FutureWarning: `clean_up_tokenization_spaces` was not set. It will be set to `True` by default. This behavior will be depracted in transformers v4.45, and will be then set to `False` by default. For more details check this issue: https://github.com/huggingface/transformers/issues/31884\n",
      "  warnings.warn(\n",
      "/var/folders/j5/nqzgw0y57tl34s5php7yb9840000gn/T/ipykernel_20731/2994901544.py:38: FutureWarning: The frame.append method is deprecated and will be removed from pandas in a future version. Use pandas.concat instead.\n",
      "  self.content_df = self.content_df.append({'uuid': uuid,\n",
      "/Library/Frameworks/Python.framework/Versions/3.10/lib/python3.10/site-packages/transformers/tokenization_utils_base.py:1601: FutureWarning: `clean_up_tokenization_spaces` was not set. It will be set to `True` by default. This behavior will be depracted in transformers v4.45, and will be then set to `False` by default. For more details check this issue: https://github.com/huggingface/transformers/issues/31884\n",
      "  warnings.warn(\n",
      "/var/folders/j5/nqzgw0y57tl34s5php7yb9840000gn/T/ipykernel_20731/2994901544.py:38: FutureWarning: The frame.append method is deprecated and will be removed from pandas in a future version. Use pandas.concat instead.\n",
      "  self.content_df = self.content_df.append({'uuid': uuid,\n"
     ]
    },
    {
     "data": {
      "text/plain": [
       "['dcad6239-6315-40e0-85fc-9a79e9c86bb8']"
      ]
     },
     "execution_count": 8,
     "metadata": {},
     "output_type": "execute_result"
    }
   ],
   "source": [
    "obj.store_data(\"\"\"Foreign, economic and strategic relations\n",
    "Main articles: Foreign relations of India and Indian Armed Forces\n",
    "\n",
    "During the 1950s and 60s, India played a pivotal role in the Non-Aligned Movement.[269] From left to right: Gamal Abdel Nasser of United Arab Republic (now Egypt), Josip Broz Tito of Yugoslavia and Jawaharlal Nehru in Belgrade, September 1961.\n",
    "In the 1950s, India strongly supported decolonisation in Africa and Asia and played a leading role in the Non-Aligned Movement.[270] After initially cordial relations with neighbouring China, India went to war with China in 1962 and was widely thought to have been humiliated.[271] This was followed by another military conflict in 1967 in which India successfully repelled Chinese attack.[272] India has had tense relations with neighbouring Pakistan; the two nations have gone to war four times: in 1947, 1965, 1971, and 1999. Three of these wars were fought over the disputed territory of Kashmir, while the third, the 1971 war, followed from India's support for the independence of Bangladesh.[273] In the late 1980s, the Indian military twice intervened abroad at the invitation of the host country: a peace-keeping operation in Sri Lanka between 1987 and 1990; and an armed intervention to prevent a 1988 coup d'état attempt in the Maldives. After the 1965 war with Pakistan, India began to pursue close military and economic ties with the Soviet Union; by the late 1960s, the Soviet Union was its largest arms supplier.[274]\n",
    "\n",
    "Aside from its ongoing special relationship with Russia,[275] India has wide-ranging defence relations with Israel and France. In recent years, it has played key roles in the South Asian Association for Regional Cooperation and the World Trade Organization. The nation has provided 100,000 military and police personnel to serve in 35 UN peacekeeping operations across four continents. It participates in the East Asia Summit, the G8+5, and other multilateral forums.[276] India has close economic ties with countries in South America,[277] Asia, and Africa; it pursues a \"Look East\" policy that seeks to strengthen partnerships with the ASEAN nations, Japan, and South Korea that revolve around many issues, but especially those involving economic investment and regional security.[278][279]\n",
    "\n",
    "\n",
    "The Indian Air Force contingent marching at the 221st Bastille Day military parade in Paris, on 14 July 2009. The parade at which India was the foreign guest was led by India's oldest regiment, the Maratha Light Infantry, founded in 1768.[280]\n",
    "China's nuclear test of 1964, as well as its repeated threats to intervene in support of Pakistan in the 1965 war, convinced India to develop nuclear weapons.[281] India conducted its first nuclear weapons test in 1974 and carried out additional underground testing in 1998. Despite criticism and military sanctions, India has signed neither the Comprehensive Nuclear-Test-Ban Treaty nor the Nuclear Non-Proliferation Treaty, considering both to be flawed and discriminatory.[282] India maintains a \"no first use\" nuclear policy and is developing a nuclear triad capability as a part of its \"Minimum Credible Deterrence\" doctrine.[283][284] It is developing a ballistic missile defence shield and, a fifth-generation fighter jet.[285][286] Other indigenous military projects involve the design and implementation of Vikrant-class aircraft carriers and Arihant-class nuclear submarines.[287]\n",
    "\n",
    "Since the end of the Cold War, India has increased its economic, strategic, and military co-operation with the United States and the European Union.[288] In 2008, a civilian nuclear agreement was signed between India and the United States. Although India possessed nuclear weapons at the time and was not a party to the Nuclear Non-Proliferation Treaty, it received waivers from the International Atomic Energy Agency and the Nuclear Suppliers Group, ending earlier restrictions on India's nuclear technology and commerce. As a consequence, India became the sixth de facto nuclear weapons state.[289] India subsequently signed co-operation agreements involving civilian nuclear energy with Russia,[290] France,[291] the United Kingdom,[292] and Canada.[293]\n",
    "\n",
    "\n",
    "Prime Minister Narendra Modi of India (left, background) in talks with President Enrique Peña Nieto of Mexico during a visit to Mexico, 2016\n",
    "The President of India is the supreme commander of the nation's armed forces; with 1.45 million active troops, they compose the world's second-largest military. It comprises the Indian Army, the Indian Navy, the Indian Air Force, and the Indian Coast Guard.[294] The official Indian defence budget for 2011 was US$36.03 billion, or 1.83% of GDP.[295] Defence expenditure was pegged at US$70.12 billion for fiscal year 2022–23 and, increased 9.8% than previous fiscal year.[296][297] India is the world's second-largest arms importer; between 2016 and 2020, it accounted for 9.5% of the total global arms imports.[298] Much of the military expenditure was focused on defence against Pakistan and countering growing Chinese influence in the Indian Ocean.[299] In May 2017, the Indian Space Research Organisation launched the South Asia Satellite, a gift from India to its neighbouring SAARC countries.[300] In October 2018, India signed a US$5.43 billion (over ₹400 billion) agreement with Russia to procure four S-400 Triumf surface-to-air missile defence systems, Russia's most advanced long-range missile defence system.[301]\n",
    "\n",
    "Economy\n",
    "Main article: Economy of India\n",
    "\n",
    "A farmer in northwestern Karnataka ploughs his field with a tractor even as another in a field beyond does the same with a pair of oxen. In 2019, 43% of India's total workforce was employed in agriculture.[302]\n",
    "\n",
    "India is the world's largest producer of milk, with the largest population of cattle. In 2018, nearly 80% of India's milk was sourced from small farms with herd size between one and two, the milk harvested by hand milking.[304]\n",
    "\n",
    "Women tend to a recently planted rice field in Junagadh district in Gujarat. 55% of India's female workforce was employed in agriculture in 2019.[303]\n",
    "According to the International Monetary Fund (IMF), the Indian economy in 2024 was nominally worth $3.94 trillion; it was the fifth-largest economy by market exchange rates and is, at around $15.0 trillion, the third-largest by purchasing power parity (PPP).[17] With its average annual GDP growth rate of 5.8% over the past two decades, and reaching 6.1% during 2011–2012,[305] India is one of the world's fastest-growing economies.[306] However, the country ranks 136th in the world in nominal GDP per capita and 125th in GDP per capita at PPP.[307] Until 1991, all Indian governments followed protectionist policies that were influenced by socialist economics. Widespread state intervention and regulation largely walled the economy off from the outside world. An acute balance of payments crisis in 1991 forced the nation to liberalise its economy;[308] since then, it has moved increasingly towards a free-market system[309][310] by emphasising both foreign trade and direct investment inflows.[311] India has been a member of World Trade Organization since 1 January 1995.[312]\n",
    "\n",
    "The 522-million-worker Indian labour force is the world's second-largest, as of 2017.[294] The service sector makes up 55.6% of GDP, the industrial sector 26.3% and the agricultural sector 18.1%. India's foreign exchange remittances of US$100 billion in 2022,[313] highest in the world, were contributed to its economy by 32 million Indians working in foreign countries.[314] Major agricultural products include rice, wheat, oilseed, cotton, jute, tea, sugarcane, and potatoes.[13] Major industries include textiles, telecommunications, chemicals, pharmaceuticals, biotechnology, food processing, steel, transport equipment, cement, mining, petroleum, machinery, and software.[13] In 2006, the share of external trade in India's GDP stood at 24%, up from 6% in 1985.[309] In 2008, India's share of world trade was 1.7%;[315] In 2021, India was the world's ninth-largest importer and the sixteenth-largest exporter.[316] Major exports include petroleum products, textile goods, jewellery, software, engineering goods, chemicals, and manufactured leather goods.[13] Major imports include crude oil, machinery, gems, fertiliser, and chemicals.[13] Between 2001 and 2011, the contribution of petrochemical and engineering goods to total exports grew from 14% to 42%.[317] India was the world's second-largest textile exporter after China in the 2013 calendar year.[318]\n",
    "\n",
    "Averaging an economic growth rate of 7.5% for several years prior to 2007,[309] India has more than doubled its hourly wage rates during the first decade of the 21st century.[319] Some 431 million Indians have left poverty since 1985; India's middle classes are projected to number around 580 million by 2030.[320] Though ranking 68th in global competitiveness,[321] as of 2010, India ranks 17th in financial market sophistication, 24th in the banking sector, 44th in business sophistication, and 39th in innovation, ahead of several advanced economies.[322] With seven of the world's top 15 information technology outsourcing companies based in India, as of 2009, the country is viewed as the second-most favourable outsourcing destination after the United States.[323] India is ranked 40th in the Global Innovation Index in 2023.[324] As of 2023, India's consumer market was the world's fifth-largest.[325]\n",
    "\n",
    "Driven by growth, India's nominal GDP per capita increased steadily from US$308 in 1991, when economic liberalisation began, to US$1,380 in 2010, to an estimated US$2,731 in 2024. It is expected to grow to US$3,264 by 2026.[17] However, it has remained lower than those of other Asian developing countries such as Indonesia, Malaysia, Philippines, Sri Lanka, and Thailand, and is expected to remain so in the near future.\n",
    "\n",
    "\n",
    "A panorama of Bangalore, the centre of India's software development economy. In the 1980s, when the first multinational corporations began to set up centres in India, they chose Bangalore because of the large pool of skilled graduates in the area, in turn due to the many science and engineering colleges in the surrounding region.[326]\n",
    "According to a 2011 PricewaterhouseCoopers (PwC) report, India's GDP at purchasing power parity could overtake that of the United States by 2045.[327] During the next four decades, Indian GDP is expected to grow at an annualised average of 8%, making it potentially the world's fastest-growing major economy until 2050.[327] The report highlights key growth factors: a young and rapidly growing working-age population; growth in the manufacturing sector because of rising education and engineering skill levels; and sustained growth of the consumer market driven by a rapidly growing middle-class.[327] The World Bank cautions that, for India to achieve its economic potential, it must continue to focus on public sector reform, transport infrastructure, agricultural and rural development, removal of labour regulations, education, energy security, and public health and nutrition.[328]\n",
    "\n",
    "According to the Worldwide Cost of Living Report 2017 released by the Economist Intelligence Unit (EIU) which was created by comparing more than 400 individual prices across 160 products and services, four of the cheapest cities were in India: Bangalore (3rd), Mumbai (5th), Chennai (5th) and New Delhi (8th).[329]\n",
    "\n",
    "Industries\n",
    "\n",
    "A tea garden in Sikkim. India, the world's second-largest producer of tea, is a nation of one billion tea drinkers, who consume 70% of India's tea output.\n",
    "India's telecommunication industry is the second-largest in the world with over 1.2 billion subscribers. It contributes 6.5% to India's GDP.[330] After the third quarter of 2017, India surpassed the US to become the second-largest smartphone market in the world after China.[331]\n",
    "\n",
    "The Indian automotive industry, the world's second-fastest growing, increased domestic sales by 26% during 2009–2010,[332] and exports by 36% during 2008–2009.[333] In 2022, India became the world's third-largest vehicle market after China and the United States, surpassing Japan.[334] At the end of 2011, the Indian IT industry employed 2.8 million professionals, generated revenues close to US$100 billion equalling 7.5% of Indian GDP, and contributed 26% of India's merchandise exports.[335]\n",
    "\n",
    "The pharmaceutical industry in India emerged as a global player. As of 2021, with 3000 pharmaceutical companies and 10,500 manufacturing units India is the world's third-largest pharmaceutical producer, largest producer of generic medicines and supply up to 50–60% of global vaccines demand, these all contribute up to US$24.44 billions in exports and India's local pharmaceutical market is estimated up to US$42 billion.[336][337] India is among the top 12 biotech destinations in the world.[338][339] The Indian biotech industry grew by 15.1% in 2012–2013, increasing its revenues from ₹204.4 billion (Indian rupees) to ₹235.24 billion (US$3.94 billion at June 2013 exchange rates).[340]\n",
    "\n",
    "Energy\n",
    "Main articles: Energy in India and Energy policy of India\n",
    "India's capacity to generate electrical power is 300 gigawatts, of which 42 gigawatts is renewable.[341] The country's usage of coal is a major cause of greenhouse gas emissions by India but its renewable energy is competing strongly.[342] India emits about 7% of global greenhouse gas emissions. This equates to about 2.5 tons of carbon dioxide per person per year, which is half the world average.[343][344] Increasing access to electricity and clean cooking with liquefied petroleum gas have been priorities for energy in India.[345]\n",
    "\n",
    "Socio-economic challenges\n",
    "\n",
    "Health workers about to begin another day of immunisation against infectious diseases in 2006. Eight years later, and three years after India's last case of polio, the World Health Organization declared India to be polio-free.[346]\n",
    "Despite economic growth during recent decades, India continues to face socio-economic challenges. In 2006, India contained the largest number of people living below the World Bank's international poverty line of US$1.25 per day.[347] The proportion decreased from 60% in 1981 to 42% in 2005.[348] Under the World Bank's later revised poverty line, it was 21% in 2011.[p][350] 30.7% of India's children under the age of five are underweight.[351] According to a Food and Agriculture Organization report in 2015, 15% of the population is undernourished.[352][353] The Midday Meal Scheme attempts to lower these rates.[354]\n",
    "\n",
    "A 2018 Walk Free Foundation report estimated that nearly 8 million people in India were living in different forms of modern slavery, such as bonded labour, child labour, human trafficking, and forced begging, among others.[355] According to the 2011 census, there were 10.1 million child labourers in the country, a decline of 2.6 million from 12.6 million in 2001.[356]\n",
    "\n",
    "Since 1991, economic inequality between India's states has consistently grown: the per-capita net state domestic product of the richest states in 2007 was 3.2 times that of the poorest.[357] Corruption in India is perceived to have decreased. According to the Corruption Perceptions Index, India ranked 78th out of 180 countries in 2018 with a score of 41 out of 100, an improvement from 85th in 2014.[358][359]\"\"\")"
   ]
  },
  {
   "cell_type": "code",
   "execution_count": 9,
   "id": "8ef3d212",
   "metadata": {
    "collapsed": true
   },
   "outputs": [
    {
     "name": "stderr",
     "output_type": "stream",
     "text": [
      "/Library/Frameworks/Python.framework/Versions/3.10/lib/python3.10/site-packages/transformers/tokenization_utils_base.py:1601: FutureWarning: `clean_up_tokenization_spaces` was not set. It will be set to `True` by default. This behavior will be depracted in transformers v4.45, and will be then set to `False` by default. For more details check this issue: https://github.com/huggingface/transformers/issues/31884\n",
      "  warnings.warn(\n",
      "/var/folders/j5/nqzgw0y57tl34s5php7yb9840000gn/T/ipykernel_20731/2994901544.py:38: FutureWarning: The frame.append method is deprecated and will be removed from pandas in a future version. Use pandas.concat instead.\n",
      "  self.content_df = self.content_df.append({'uuid': uuid,\n",
      "/Library/Frameworks/Python.framework/Versions/3.10/lib/python3.10/site-packages/transformers/tokenization_utils_base.py:1601: FutureWarning: `clean_up_tokenization_spaces` was not set. It will be set to `True` by default. This behavior will be depracted in transformers v4.45, and will be then set to `False` by default. For more details check this issue: https://github.com/huggingface/transformers/issues/31884\n",
      "  warnings.warn(\n",
      "/var/folders/j5/nqzgw0y57tl34s5php7yb9840000gn/T/ipykernel_20731/2994901544.py:38: FutureWarning: The frame.append method is deprecated and will be removed from pandas in a future version. Use pandas.concat instead.\n",
      "  self.content_df = self.content_df.append({'uuid': uuid,\n",
      "/Library/Frameworks/Python.framework/Versions/3.10/lib/python3.10/site-packages/transformers/tokenization_utils_base.py:1601: FutureWarning: `clean_up_tokenization_spaces` was not set. It will be set to `True` by default. This behavior will be depracted in transformers v4.45, and will be then set to `False` by default. For more details check this issue: https://github.com/huggingface/transformers/issues/31884\n",
      "  warnings.warn(\n",
      "/var/folders/j5/nqzgw0y57tl34s5php7yb9840000gn/T/ipykernel_20731/2994901544.py:38: FutureWarning: The frame.append method is deprecated and will be removed from pandas in a future version. Use pandas.concat instead.\n",
      "  self.content_df = self.content_df.append({'uuid': uuid,\n",
      "/Library/Frameworks/Python.framework/Versions/3.10/lib/python3.10/site-packages/transformers/tokenization_utils_base.py:1601: FutureWarning: `clean_up_tokenization_spaces` was not set. It will be set to `True` by default. This behavior will be depracted in transformers v4.45, and will be then set to `False` by default. For more details check this issue: https://github.com/huggingface/transformers/issues/31884\n",
      "  warnings.warn(\n",
      "/var/folders/j5/nqzgw0y57tl34s5php7yb9840000gn/T/ipykernel_20731/2994901544.py:38: FutureWarning: The frame.append method is deprecated and will be removed from pandas in a future version. Use pandas.concat instead.\n",
      "  self.content_df = self.content_df.append({'uuid': uuid,\n"
     ]
    },
    {
     "data": {
      "text/plain": [
       "['36ac1c5c-ca19-4306-b7f3-53bc2e7f0791']"
      ]
     },
     "execution_count": 9,
     "metadata": {},
     "output_type": "execute_result"
    }
   ],
   "source": [
    "obj.store_data(\"\"\"What is Retrieval-Augmented Generation (RAG)?\n",
    "RAG (Retrieval-Augmented Generation) is an AI framework that combines the strengths of traditional information retrieval systems (such as databases) with the capabilities of generative large language models (LLMs).  By combining this extra knowledge with its own language skills, the AI can write text that is more accurate, up-to-date, and relevant to your specific needs.\n",
    "\n",
    "Get started for free\n",
    "image of what is RAG\n",
    "35:30\n",
    "Grounding for Gemini with Vertex AI Search and DIY RAG\n",
    "How does Retrieval-Augmented Generation work?\n",
    "RAGs operate with a few main steps to help enhance generative AI outputs: \n",
    "\n",
    "Retrieval and Pre-processing: RAGs leverage powerful search algorithms to query external data, such as web pages, knowledge bases, and databases. Once retrieved, the relevant information undergoes pre-processing, including tokenization, stemming, and removal of stop words.\n",
    "Generation: The pre-processed retrieved information is then seamlessly incorporated into the pre-trained LLM. This integration enhances the LLM's context, providing it with a more comprehensive understanding of the topic. This augmented context enables the LLM to generate more precise, informative, and engaging responses. \n",
    "RAG operates by first retrieving relevant information from a database using a query generated by the LLM. This retrieved information is then integrated into the LLM's query input, enabling it to generate more accurate and contextually relevant text. RAG leverages vector databases, which store data in a way that facilitates efficient search and retrieval.\n",
    "\n",
    "Why Use RAG?\n",
    "RAG offers several advantages over traditional methods of text generation, especially when dealing with factual information or data-driven responses. Here are some key reasons why using RAG can be beneficial:\n",
    "\n",
    "Access to updated information\n",
    "Traditional LLMs are often limited to their pre-trained knowledge and data. This could lead to potentially outdated or inaccurate responses. RAG overcomes this by granting LLMs access to external information sources, ensuring accurate and up-to-date answers.\n",
    "\n",
    "Factual grounding\n",
    "LLMs are powerful tools for generating creative and engaging text, but they can sometimes struggle with factual accuracy. This is because LLMs are trained on massive amounts of text data, which may contain inaccuracies or biases.\n",
    "\n",
    "RAG helps address this issue by providing LLMs with access to a curated knowledge base, ensuring that the generated text is grounded in factual information. This makes RAG particularly valuable for applications where accuracy is paramount, such as news reporting, scientific writing, or customer service.\n",
    "\n",
    "Note: RAG may also assist in preventing hallucinations being sent to the end user. The LLM will still generate solutions from time to time where its training is incomplete but the RAG technique helps improve the user experience.\n",
    "\n",
    "Contextual relevance\n",
    "The retrieval mechanism in RAG ensures that the retrieved information is relevant to the input query or context.\n",
    "\n",
    "By providing the LLM with contextually relevant information, RAG helps the model generate responses that are more coherent and aligned with the given context.\n",
    "\n",
    "This contextual grounding helps to reduce the generation of irrelevant or off-topic responses.\n",
    "\n",
    "Factual consistency\n",
    "RAG encourages the LLM to generate responses that are consistent with the retrieved factual information.\n",
    "\n",
    "By conditioning the generation process on the retrieved knowledge, RAG helps to minimize contradictions and inconsistencies in the generated text.\n",
    "\n",
    "This promotes factual consistency and reduces the likelihood of generating false or misleading information.\n",
    "\n",
    "Utilizes vector databases\n",
    "RAGs leverage vector databases to efficiently retrieve relevant documents. Vector databases store documents as vectors in a high-dimensional space, allowing for fast and accurate retrieval based on semantic similarity.\n",
    "\n",
    "Improved response accuracy\n",
    "RAGs complement LLMs by providing them with contextually relevant information. LLMs can then use this information to generate more coherent, informative, and accurate responses, even multi-modal ones.\n",
    "\n",
    "RAGs and chatbots\n",
    "RAGs can be integrated into a chatbot system to enhance their conversational abilities. By accessing external information, RAG-powered chatbots helps leverage external knowledge to provide more comprehensive,informative, and context-aware responses, improving the overall user experience.\"\"\")"
   ]
  },
  {
   "cell_type": "code",
   "execution_count": 27,
   "id": "c28820ba",
   "metadata": {},
   "outputs": [],
   "source": [
    "query = \"Indian labour force\""
   ]
  },
  {
   "cell_type": "code",
   "execution_count": 28,
   "id": "fbd5d4c9",
   "metadata": {},
   "outputs": [
    {
     "name": "stdout",
     "output_type": "stream",
     "text": [
      "docs[0]: ['dcad6239-6315-40e0-85fc-9a79e9c86bb8', 'fecdc1b7-7a72-4bcc-9867-5e528db563e3', 'd9f49f81-418c-4184-bf90-47ea268f8b5e', 'a4b3e6d3-12ee-4b62-9a20-851909aad26e']\n",
      "                                    uuid  \\\n",
      "5   a4b3e6d3-12ee-4b62-9a20-851909aad26e   \n",
      "7   d9f49f81-418c-4184-bf90-47ea268f8b5e   \n",
      "8   fecdc1b7-7a72-4bcc-9867-5e528db563e3   \n",
      "13  dcad6239-6315-40e0-85fc-9a79e9c86bb8   \n",
      "\n",
      "                                              content  \\\n",
      "5   Economy\\nMain article: Economy of India\\n\\nA f...   \n",
      "7   The 522-million-worker Indian labour force is ...   \n",
      "8   Averaging an economic growth rate of 7.5% for ...   \n",
      "13  Since 1991, economic inequality between India'...   \n",
      "\n",
      "                                                 tags  \n",
      "5            Economy, Agriculture, Milk, Farms, India  \n",
      "7   economy, India, industry, agriculture, trade, ...  \n",
      "8   Economic growth, India, Poverty, Middle class,...  \n",
      "13  India, economy, inequality, corruption, develo...  \n"
     ]
    }
   ],
   "source": [
    "result = obj.search_tags(query)"
   ]
  },
  {
   "cell_type": "code",
   "execution_count": 29,
   "id": "3e7390b9",
   "metadata": {},
   "outputs": [
    {
     "name": "stdout",
     "output_type": "stream",
     "text": [
      "India, economy, inequality, corruption, development\n",
      "##################################################\n",
      "Economic growth, India, Poverty, Middle class, Competitiveness, Finance, Banking, Innovation, IT outsourcing, GDP, Asia\n",
      "##################################################\n",
      "economy, India, industry, agriculture, trade, exports, imports, manufacturing, textiles\n",
      "##################################################\n",
      "Economy, Agriculture, Milk, Farms, India\n",
      "##################################################\n"
     ]
    }
   ],
   "source": [
    "for c in result['tags']:\n",
    "    print(c)\n",
    "    print(\"##\"*25)"
   ]
  },
  {
   "cell_type": "code",
   "execution_count": 30,
   "id": "aee0a1ea",
   "metadata": {},
   "outputs": [
    {
     "name": "stdout",
     "output_type": "stream",
     "text": [
      "Since 1991, economic inequality between India's states has consistently grown: the per-capita net state domestic product of the richest states in 2007 was 3.2 times that of the poorest.[357] Corruption in India is perceived to have decreased. According to the Corruption Perceptions Index, India ranked 78th out of 180 countries in 2018 with a score of 41 out of 100, an improvement from 85th in 2014.[358][359]\n",
      "##################################################\n",
      "Averaging an economic growth rate of 7.5% for several years prior to 2007,[309] India has more than doubled its hourly wage rates during the first decade of the 21st century.[319] Some 431 million Indians have left poverty since 1985; India's middle classes are projected to number around 580 million by 2030.[320] Though ranking 68th in global competitiveness,[321] as of 2010, India ranks 17th in financial market sophistication, 24th in the banking sector, 44th in business sophistication, and 39th in innovation, ahead of several advanced economies.[322] With seven of the world's top 15 information technology outsourcing companies based in India, as of 2009, the country is viewed as the second-most favourable outsourcing destination after the United States.[323] India is ranked 40th in the Global Innovation Index in 2023.[324] As of 2023, India's consumer market was the world's fifth-largest.[325]\n",
      "\n",
      "Driven by growth, India's nominal GDP per capita increased steadily from US$308 in 1991, when economic liberalisation began, to US$1,380 in 2010, to an estimated US$2,731 in 2024. It is expected to grow to US$3,264 by 2026.[17] However, it has remained lower than those of other Asian developing countries such as Indonesia, Malaysia, Philippines, Sri Lanka, and Thailand, and is expected to remain so in the near future.\n",
      "##################################################\n",
      "The 522-million-worker Indian labour force is the world's second-largest, as of 2017.[294] The service sector makes up 55.6% of GDP, the industrial sector 26.3% and the agricultural sector 18.1%. India's foreign exchange remittances of US$100 billion in 2022,[313] highest in the world, were contributed to its economy by 32 million Indians working in foreign countries.[314] Major agricultural products include rice, wheat, oilseed, cotton, jute, tea, sugarcane, and potatoes.[13] Major industries include textiles, telecommunications, chemicals, pharmaceuticals, biotechnology, food processing, steel, transport equipment, cement, mining, petroleum, machinery, and software.[13] In 2006, the share of external trade in India's GDP stood at 24%, up from 6% in 1985.[309] In 2008, India's share of world trade was 1.7%;[315] In 2021, India was the world's ninth-largest importer and the sixteenth-largest exporter.[316] Major exports include petroleum products, textile goods, jewellery, software, engineering goods, chemicals, and manufactured leather goods.[13] Major imports include crude oil, machinery, gems, fertiliser, and chemicals.[13] Between 2001 and 2011, the contribution of petrochemical and engineering goods to total exports grew from 14% to 42%.[317] India was the world's second-largest textile exporter after China in the 2013 calendar year.[318]\n",
      "##################################################\n",
      "Economy\n",
      "Main article: Economy of India\n",
      "\n",
      "A farmer in northwestern Karnataka ploughs his field with a tractor even as another in a field beyond does the same with a pair of oxen. In 2019, 43% of India's total workforce was employed in agriculture.[302]\n",
      "\n",
      "India is the world's largest producer of milk, with the largest population of cattle. In 2018, nearly 80% of India's milk was sourced from small farms with herd size between one and two, the milk harvested by hand milking.[304]\n",
      "##################################################\n"
     ]
    }
   ],
   "source": [
    "for c in result['content']:\n",
    "    print(c)\n",
    "    print(\"##\"*25)"
   ]
  },
  {
   "cell_type": "code",
   "execution_count": 31,
   "id": "6d5cf49d",
   "metadata": {},
   "outputs": [
    {
     "name": "stdout",
     "output_type": "stream",
     "text": [
      "docs[0]: ['fecdc1b7-7a72-4bcc-9867-5e528db563e3', 'd9f49f81-418c-4184-bf90-47ea268f8b5e', 'e5d715cf-da9d-4a70-90d0-2a30bff7aab1', 'a4b3e6d3-12ee-4b62-9a20-851909aad26e']\n",
      "                                   uuid  \\\n",
      "5  a4b3e6d3-12ee-4b62-9a20-851909aad26e   \n",
      "6  e5d715cf-da9d-4a70-90d0-2a30bff7aab1   \n",
      "7  d9f49f81-418c-4184-bf90-47ea268f8b5e   \n",
      "8  fecdc1b7-7a72-4bcc-9867-5e528db563e3   \n",
      "\n",
      "                                             content  \\\n",
      "5  Economy\\nMain article: Economy of India\\n\\nA f...   \n",
      "6  Women tend to a recently planted rice field in...   \n",
      "7  The 522-million-worker Indian labour force is ...   \n",
      "8  Averaging an economic growth rate of 7.5% for ...   \n",
      "\n",
      "                                                tags  \n",
      "5           Economy, Agriculture, Milk, Farms, India  \n",
      "6  India, economy, agriculture, GDP, growth, mark...  \n",
      "7  economy, India, industry, agriculture, trade, ...  \n",
      "8  Economic growth, India, Poverty, Middle class,...  \n"
     ]
    }
   ],
   "source": [
    "result_c = obj.search_content(query)"
   ]
  },
  {
   "cell_type": "code",
   "execution_count": 32,
   "id": "622bd9e3",
   "metadata": {},
   "outputs": [
    {
     "name": "stdout",
     "output_type": "stream",
     "text": [
      "Economic growth, India, Poverty, Middle class, Competitiveness, Finance, Banking, Innovation, IT outsourcing, GDP, Asia\n",
      "##################################################\n",
      "economy, India, industry, agriculture, trade, exports, imports, manufacturing, textiles\n",
      "##################################################\n",
      "India, economy, agriculture, GDP, growth, market, purchasing.power, protectionism, world trade\n",
      "##################################################\n",
      "Economy, Agriculture, Milk, Farms, India\n",
      "##################################################\n"
     ]
    }
   ],
   "source": [
    "for c in result_c['tags']:\n",
    "    print(c)\n",
    "    print(\"##\"*25)"
   ]
  },
  {
   "cell_type": "code",
   "execution_count": 33,
   "id": "1a3a7615",
   "metadata": {},
   "outputs": [
    {
     "name": "stdout",
     "output_type": "stream",
     "text": [
      "Averaging an economic growth rate of 7.5% for several years prior to 2007,[309] India has more than doubled its hourly wage rates during the first decade of the 21st century.[319] Some 431 million Indians have left poverty since 1985; India's middle classes are projected to number around 580 million by 2030.[320] Though ranking 68th in global competitiveness,[321] as of 2010, India ranks 17th in financial market sophistication, 24th in the banking sector, 44th in business sophistication, and 39th in innovation, ahead of several advanced economies.[322] With seven of the world's top 15 information technology outsourcing companies based in India, as of 2009, the country is viewed as the second-most favourable outsourcing destination after the United States.[323] India is ranked 40th in the Global Innovation Index in 2023.[324] As of 2023, India's consumer market was the world's fifth-largest.[325]\n",
      "\n",
      "Driven by growth, India's nominal GDP per capita increased steadily from US$308 in 1991, when economic liberalisation began, to US$1,380 in 2010, to an estimated US$2,731 in 2024. It is expected to grow to US$3,264 by 2026.[17] However, it has remained lower than those of other Asian developing countries such as Indonesia, Malaysia, Philippines, Sri Lanka, and Thailand, and is expected to remain so in the near future.\n",
      "##################################################\n",
      "The 522-million-worker Indian labour force is the world's second-largest, as of 2017.[294] The service sector makes up 55.6% of GDP, the industrial sector 26.3% and the agricultural sector 18.1%. India's foreign exchange remittances of US$100 billion in 2022,[313] highest in the world, were contributed to its economy by 32 million Indians working in foreign countries.[314] Major agricultural products include rice, wheat, oilseed, cotton, jute, tea, sugarcane, and potatoes.[13] Major industries include textiles, telecommunications, chemicals, pharmaceuticals, biotechnology, food processing, steel, transport equipment, cement, mining, petroleum, machinery, and software.[13] In 2006, the share of external trade in India's GDP stood at 24%, up from 6% in 1985.[309] In 2008, India's share of world trade was 1.7%;[315] In 2021, India was the world's ninth-largest importer and the sixteenth-largest exporter.[316] Major exports include petroleum products, textile goods, jewellery, software, engineering goods, chemicals, and manufactured leather goods.[13] Major imports include crude oil, machinery, gems, fertiliser, and chemicals.[13] Between 2001 and 2011, the contribution of petrochemical and engineering goods to total exports grew from 14% to 42%.[317] India was the world's second-largest textile exporter after China in the 2013 calendar year.[318]\n",
      "##################################################\n",
      "Women tend to a recently planted rice field in Junagadh district in Gujarat. 55% of India's female workforce was employed in agriculture in 2019.[303]\n",
      "According to the International Monetary Fund (IMF), the Indian economy in 2024 was nominally worth $3.94 trillion; it was the fifth-largest economy by market exchange rates and is, at around $15.0 trillion, the third-largest by purchasing power parity (PPP).[17] With its average annual GDP growth rate of 5.8% over the past two decades, and reaching 6.1% during 2011–2012,[305] India is one of the world's fastest-growing economies.[306] However, the country ranks 136th in the world in nominal GDP per capita and 125th in GDP per capita at PPP.[307] Until 1991, all Indian governments followed protectionist policies that were influenced by socialist economics. Widespread state intervention and regulation largely walled the economy off from the outside world. An acute balance of payments crisis in 1991 forced the nation to liberalise its economy;[308] since then, it has moved increasingly towards a free-market system[309][310] by emphasising both foreign trade and direct investment inflows.[311] India has been a member of World Trade Organization since 1 January 1995.[312]\n",
      "##################################################\n",
      "Economy\n",
      "Main article: Economy of India\n",
      "\n",
      "A farmer in northwestern Karnataka ploughs his field with a tractor even as another in a field beyond does the same with a pair of oxen. In 2019, 43% of India's total workforce was employed in agriculture.[302]\n",
      "\n",
      "India is the world's largest producer of milk, with the largest population of cattle. In 2018, nearly 80% of India's milk was sourced from small farms with herd size between one and two, the milk harvested by hand milking.[304]\n",
      "##################################################\n"
     ]
    }
   ],
   "source": [
    "for c in result_c['content']:\n",
    "    print(c)\n",
    "    print(\"##\"*25)"
   ]
  },
  {
   "cell_type": "code",
   "execution_count": 34,
   "id": "966b9a6d",
   "metadata": {},
   "outputs": [
    {
     "data": {
      "text/html": [
       "<div>\n",
       "<style scoped>\n",
       "    .dataframe tbody tr th:only-of-type {\n",
       "        vertical-align: middle;\n",
       "    }\n",
       "\n",
       "    .dataframe tbody tr th {\n",
       "        vertical-align: top;\n",
       "    }\n",
       "\n",
       "    .dataframe thead th {\n",
       "        text-align: right;\n",
       "    }\n",
       "</style>\n",
       "<table border=\"1\" class=\"dataframe\">\n",
       "  <thead>\n",
       "    <tr style=\"text-align: right;\">\n",
       "      <th></th>\n",
       "      <th>uuid</th>\n",
       "      <th>content</th>\n",
       "      <th>tags</th>\n",
       "      <th>score</th>\n",
       "    </tr>\n",
       "  </thead>\n",
       "  <tbody>\n",
       "    <tr>\n",
       "      <th>3</th>\n",
       "      <td>dcad6239-6315-40e0-85fc-9a79e9c86bb8</td>\n",
       "      <td>Since 1991, economic inequality between India'...</td>\n",
       "      <td>India, economy, inequality, corruption, develo...</td>\n",
       "      <td>0.981657</td>\n",
       "    </tr>\n",
       "    <tr>\n",
       "      <th>2</th>\n",
       "      <td>fecdc1b7-7a72-4bcc-9867-5e528db563e3</td>\n",
       "      <td>Averaging an economic growth rate of 7.5% for ...</td>\n",
       "      <td>Economic growth, India, Poverty, Middle class,...</td>\n",
       "      <td>0.989452</td>\n",
       "    </tr>\n",
       "    <tr>\n",
       "      <th>1</th>\n",
       "      <td>d9f49f81-418c-4184-bf90-47ea268f8b5e</td>\n",
       "      <td>The 522-million-worker Indian labour force is ...</td>\n",
       "      <td>economy, India, industry, agriculture, trade, ...</td>\n",
       "      <td>1.000755</td>\n",
       "    </tr>\n",
       "    <tr>\n",
       "      <th>0</th>\n",
       "      <td>a4b3e6d3-12ee-4b62-9a20-851909aad26e</td>\n",
       "      <td>Economy\\nMain article: Economy of India\\n\\nA f...</td>\n",
       "      <td>Economy, Agriculture, Milk, Farms, India</td>\n",
       "      <td>1.009177</td>\n",
       "    </tr>\n",
       "  </tbody>\n",
       "</table>\n",
       "</div>"
      ],
      "text/plain": [
       "                                   uuid  \\\n",
       "3  dcad6239-6315-40e0-85fc-9a79e9c86bb8   \n",
       "2  fecdc1b7-7a72-4bcc-9867-5e528db563e3   \n",
       "1  d9f49f81-418c-4184-bf90-47ea268f8b5e   \n",
       "0  a4b3e6d3-12ee-4b62-9a20-851909aad26e   \n",
       "\n",
       "                                             content  \\\n",
       "3  Since 1991, economic inequality between India'...   \n",
       "2  Averaging an economic growth rate of 7.5% for ...   \n",
       "1  The 522-million-worker Indian labour force is ...   \n",
       "0  Economy\\nMain article: Economy of India\\n\\nA f...   \n",
       "\n",
       "                                                tags     score  \n",
       "3  India, economy, inequality, corruption, develo...  0.981657  \n",
       "2  Economic growth, India, Poverty, Middle class,...  0.989452  \n",
       "1  economy, India, industry, agriculture, trade, ...  1.000755  \n",
       "0           Economy, Agriculture, Milk, Farms, India  1.009177  "
      ]
     },
     "execution_count": 34,
     "metadata": {},
     "output_type": "execute_result"
    }
   ],
   "source": [
    "result"
   ]
  },
  {
   "cell_type": "code",
   "execution_count": 35,
   "id": "12f1a821",
   "metadata": {},
   "outputs": [
    {
     "data": {
      "text/html": [
       "<div>\n",
       "<style scoped>\n",
       "    .dataframe tbody tr th:only-of-type {\n",
       "        vertical-align: middle;\n",
       "    }\n",
       "\n",
       "    .dataframe tbody tr th {\n",
       "        vertical-align: top;\n",
       "    }\n",
       "\n",
       "    .dataframe thead th {\n",
       "        text-align: right;\n",
       "    }\n",
       "</style>\n",
       "<table border=\"1\" class=\"dataframe\">\n",
       "  <thead>\n",
       "    <tr style=\"text-align: right;\">\n",
       "      <th></th>\n",
       "      <th>uuid</th>\n",
       "      <th>content</th>\n",
       "      <th>tags</th>\n",
       "      <th>score</th>\n",
       "    </tr>\n",
       "  </thead>\n",
       "  <tbody>\n",
       "    <tr>\n",
       "      <th>3</th>\n",
       "      <td>fecdc1b7-7a72-4bcc-9867-5e528db563e3</td>\n",
       "      <td>Averaging an economic growth rate of 7.5% for ...</td>\n",
       "      <td>Economic growth, India, Poverty, Middle class,...</td>\n",
       "      <td>0.814134</td>\n",
       "    </tr>\n",
       "    <tr>\n",
       "      <th>2</th>\n",
       "      <td>d9f49f81-418c-4184-bf90-47ea268f8b5e</td>\n",
       "      <td>The 522-million-worker Indian labour force is ...</td>\n",
       "      <td>economy, India, industry, agriculture, trade, ...</td>\n",
       "      <td>0.819212</td>\n",
       "    </tr>\n",
       "    <tr>\n",
       "      <th>1</th>\n",
       "      <td>e5d715cf-da9d-4a70-90d0-2a30bff7aab1</td>\n",
       "      <td>Women tend to a recently planted rice field in...</td>\n",
       "      <td>India, economy, agriculture, GDP, growth, mark...</td>\n",
       "      <td>0.827677</td>\n",
       "    </tr>\n",
       "    <tr>\n",
       "      <th>0</th>\n",
       "      <td>a4b3e6d3-12ee-4b62-9a20-851909aad26e</td>\n",
       "      <td>Economy\\nMain article: Economy of India\\n\\nA f...</td>\n",
       "      <td>Economy, Agriculture, Milk, Farms, India</td>\n",
       "      <td>0.836985</td>\n",
       "    </tr>\n",
       "  </tbody>\n",
       "</table>\n",
       "</div>"
      ],
      "text/plain": [
       "                                   uuid  \\\n",
       "3  fecdc1b7-7a72-4bcc-9867-5e528db563e3   \n",
       "2  d9f49f81-418c-4184-bf90-47ea268f8b5e   \n",
       "1  e5d715cf-da9d-4a70-90d0-2a30bff7aab1   \n",
       "0  a4b3e6d3-12ee-4b62-9a20-851909aad26e   \n",
       "\n",
       "                                             content  \\\n",
       "3  Averaging an economic growth rate of 7.5% for ...   \n",
       "2  The 522-million-worker Indian labour force is ...   \n",
       "1  Women tend to a recently planted rice field in...   \n",
       "0  Economy\\nMain article: Economy of India\\n\\nA f...   \n",
       "\n",
       "                                                tags     score  \n",
       "3  Economic growth, India, Poverty, Middle class,...  0.814134  \n",
       "2  economy, India, industry, agriculture, trade, ...  0.819212  \n",
       "1  India, economy, agriculture, GDP, growth, mark...  0.827677  \n",
       "0           Economy, Agriculture, Milk, Farms, India  0.836985  "
      ]
     },
     "execution_count": 35,
     "metadata": {},
     "output_type": "execute_result"
    }
   ],
   "source": [
    "result_c"
   ]
  },
  {
   "cell_type": "code",
   "execution_count": null,
   "id": "41016c89",
   "metadata": {},
   "outputs": [],
   "source": []
  }
 ],
 "metadata": {
  "kernelspec": {
   "display_name": "Python 3 (ipykernel)",
   "language": "python",
   "name": "python3"
  },
  "language_info": {
   "codemirror_mode": {
    "name": "ipython",
    "version": 3
   },
   "file_extension": ".py",
   "mimetype": "text/x-python",
   "name": "python",
   "nbconvert_exporter": "python",
   "pygments_lexer": "ipython3",
   "version": "3.10.4"
  }
 },
 "nbformat": 4,
 "nbformat_minor": 5
}
